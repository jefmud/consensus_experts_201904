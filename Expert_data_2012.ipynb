{
 "cells": [
  {
   "cell_type": "code",
   "execution_count": 1,
   "metadata": {},
   "outputs": [],
   "source": [
    "import requests\n",
    "import os\n",
    "\n",
    "# date range to identify\n",
    "start='2012-01-01'\n",
    "end='2013-01-01'\n",
    "\n",
    "# create a filename that reflects the date range\n",
    "expert_filename = 'experts_{}_{}.csv'.format(start, end)\n",
    "\n",
    "# check if the file already exists-- if not, request the file\n",
    "if not os.path.exists(expert_filename):\n",
    "    # create a query that matches the data\n",
    "    query=\"http://serengeti.wfunet.wfu.edu/consensus/api/v3/?start={}&end={}&database=expert&method=CSV\".format(start,end)\n",
    "    # note, this request can potentially timeout, so if an error occurs, try it again.\n",
    "    print('requesting data from')\n",
    "    expert_data = requests.get(query)\n",
    "    \n",
    "    # write it back to a file\n",
    "    with open(expert_filename, 'w') as fh:\n",
    "        fh.write(expert_data.text)"
   ]
  },
  {
   "cell_type": "code",
   "execution_count": 56,
   "metadata": {},
   "outputs": [
    {
     "data": {
      "text/html": [
       "<div>\n",
       "<style scoped>\n",
       "    .dataframe tbody tr th:only-of-type {\n",
       "        vertical-align: middle;\n",
       "    }\n",
       "\n",
       "    .dataframe tbody tr th {\n",
       "        vertical-align: top;\n",
       "    }\n",
       "\n",
       "    .dataframe thead th {\n",
       "        text-align: right;\n",
       "    }\n",
       "</style>\n",
       "<table border=\"1\" class=\"dataframe\">\n",
       "  <thead>\n",
       "    <tr style=\"text-align: right;\">\n",
       "      <th></th>\n",
       "      <th>ID</th>\n",
       "      <th>CaptureEventID</th>\n",
       "      <th>Species</th>\n",
       "      <th>NumImages</th>\n",
       "      <th>DateTime</th>\n",
       "      <th>SiteID</th>\n",
       "      <th>LocationX</th>\n",
       "      <th>LocationY</th>\n",
       "      <th>NumSpecies</th>\n",
       "      <th>Count</th>\n",
       "      <th>...</th>\n",
       "      <th>Eating</th>\n",
       "      <th>Interacting</th>\n",
       "      <th>Babies</th>\n",
       "      <th>NumClassifications</th>\n",
       "      <th>NumVotes</th>\n",
       "      <th>NumBlanks</th>\n",
       "      <th>Evenness</th>\n",
       "      <th>expert identified</th>\n",
       "      <th>created</th>\n",
       "      <th>modified</th>\n",
       "    </tr>\n",
       "  </thead>\n",
       "  <tbody>\n",
       "    <tr>\n",
       "      <th>161879</th>\n",
       "      <td>309765</td>\n",
       "      <td>ASG000ygu7</td>\n",
       "      <td>hippopotamus</td>\n",
       "      <td>1</td>\n",
       "      <td>2012-12-31T22:53:49</td>\n",
       "      <td>D03</td>\n",
       "      <td>699427</td>\n",
       "      <td>9731593</td>\n",
       "      <td>1</td>\n",
       "      <td>2</td>\n",
       "      <td>...</td>\n",
       "      <td>0.937500</td>\n",
       "      <td>0.0</td>\n",
       "      <td>0.3125</td>\n",
       "      <td>16</td>\n",
       "      <td>16</td>\n",
       "      <td>0</td>\n",
       "      <td>0.000000</td>\n",
       "      <td>False</td>\n",
       "      <td>2016-10-31T07:44:28.023000</td>\n",
       "      <td>2016-10-31T07:44:28.023000</td>\n",
       "    </tr>\n",
       "    <tr>\n",
       "      <th>161880</th>\n",
       "      <td>309766</td>\n",
       "      <td>ASG000ygu8</td>\n",
       "      <td>hippopotamus</td>\n",
       "      <td>1</td>\n",
       "      <td>2012-12-31T22:55:03</td>\n",
       "      <td>D03</td>\n",
       "      <td>699427</td>\n",
       "      <td>9731593</td>\n",
       "      <td>1</td>\n",
       "      <td>2</td>\n",
       "      <td>...</td>\n",
       "      <td>0.906250</td>\n",
       "      <td>0.0</td>\n",
       "      <td>0.2500</td>\n",
       "      <td>33</td>\n",
       "      <td>32</td>\n",
       "      <td>1</td>\n",
       "      <td>0.000000</td>\n",
       "      <td>False</td>\n",
       "      <td>2016-10-31T07:44:28.029000</td>\n",
       "      <td>2016-10-31T07:44:28.029000</td>\n",
       "    </tr>\n",
       "    <tr>\n",
       "      <th>161881</th>\n",
       "      <td>318727</td>\n",
       "      <td>ASG000ztne</td>\n",
       "      <td>hartebeest</td>\n",
       "      <td>1</td>\n",
       "      <td>2012-12-31T23:00:34</td>\n",
       "      <td>J05</td>\n",
       "      <td>713133</td>\n",
       "      <td>9727041</td>\n",
       "      <td>1</td>\n",
       "      <td>2</td>\n",
       "      <td>...</td>\n",
       "      <td>0.000000</td>\n",
       "      <td>0.0</td>\n",
       "      <td>0.0000</td>\n",
       "      <td>17</td>\n",
       "      <td>13</td>\n",
       "      <td>0</td>\n",
       "      <td>0.541668</td>\n",
       "      <td>False</td>\n",
       "      <td>2016-10-31T07:45:26.749000</td>\n",
       "      <td>2016-10-31T07:45:26.749000</td>\n",
       "    </tr>\n",
       "    <tr>\n",
       "      <th>161882</th>\n",
       "      <td>328920</td>\n",
       "      <td>ASG0011k7i</td>\n",
       "      <td>zebra</td>\n",
       "      <td>1</td>\n",
       "      <td>2012-12-31T23:35:01</td>\n",
       "      <td>T08</td>\n",
       "      <td>735260</td>\n",
       "      <td>9720293</td>\n",
       "      <td>1</td>\n",
       "      <td>4</td>\n",
       "      <td>...</td>\n",
       "      <td>0.062500</td>\n",
       "      <td>0.0</td>\n",
       "      <td>0.0000</td>\n",
       "      <td>18</td>\n",
       "      <td>16</td>\n",
       "      <td>2</td>\n",
       "      <td>0.000000</td>\n",
       "      <td>False</td>\n",
       "      <td>2016-10-31T07:46:32.768000</td>\n",
       "      <td>2016-10-31T07:46:32.768000</td>\n",
       "    </tr>\n",
       "    <tr>\n",
       "      <th>161883</th>\n",
       "      <td>303918</td>\n",
       "      <td>ASG000y0qu</td>\n",
       "      <td>impala</td>\n",
       "      <td>1</td>\n",
       "      <td>2012-12-31T23:35:47</td>\n",
       "      <td>B05</td>\n",
       "      <td>694892</td>\n",
       "      <td>9727162</td>\n",
       "      <td>1</td>\n",
       "      <td>1</td>\n",
       "      <td>...</td>\n",
       "      <td>0.769231</td>\n",
       "      <td>0.0</td>\n",
       "      <td>0.0000</td>\n",
       "      <td>18</td>\n",
       "      <td>13</td>\n",
       "      <td>0</td>\n",
       "      <td>0.616612</td>\n",
       "      <td>True</td>\n",
       "      <td>2016-10-31T07:43:49.124000</td>\n",
       "      <td>2017-04-05T14:40:20.080986</td>\n",
       "    </tr>\n",
       "  </tbody>\n",
       "</table>\n",
       "<p>5 rows × 23 columns</p>\n",
       "</div>"
      ],
      "text/plain": [
       "            ID CaptureEventID       Species  NumImages             DateTime  \\\n",
       "161879  309765     ASG000ygu7  hippopotamus          1  2012-12-31T22:53:49   \n",
       "161880  309766     ASG000ygu8  hippopotamus          1  2012-12-31T22:55:03   \n",
       "161881  318727     ASG000ztne    hartebeest          1  2012-12-31T23:00:34   \n",
       "161882  328920     ASG0011k7i         zebra          1  2012-12-31T23:35:01   \n",
       "161883  303918     ASG000y0qu        impala          1  2012-12-31T23:35:47   \n",
       "\n",
       "       SiteID  LocationX  LocationY  NumSpecies Count  \\\n",
       "161879    D03     699427    9731593           1     2   \n",
       "161880    D03     699427    9731593           1     2   \n",
       "161881    J05     713133    9727041           1     2   \n",
       "161882    T08     735260    9720293           1     4   \n",
       "161883    B05     694892    9727162           1     1   \n",
       "\n",
       "                   ...                Eating  Interacting  Babies  \\\n",
       "161879             ...              0.937500          0.0  0.3125   \n",
       "161880             ...              0.906250          0.0  0.2500   \n",
       "161881             ...              0.000000          0.0  0.0000   \n",
       "161882             ...              0.062500          0.0  0.0000   \n",
       "161883             ...              0.769231          0.0  0.0000   \n",
       "\n",
       "        NumClassifications  NumVotes  NumBlanks  Evenness  expert identified  \\\n",
       "161879                  16        16          0  0.000000              False   \n",
       "161880                  33        32          1  0.000000              False   \n",
       "161881                  17        13          0  0.541668              False   \n",
       "161882                  18        16          2  0.000000              False   \n",
       "161883                  18        13          0  0.616612               True   \n",
       "\n",
       "                           created                    modified  \n",
       "161879  2016-10-31T07:44:28.023000  2016-10-31T07:44:28.023000  \n",
       "161880  2016-10-31T07:44:28.029000  2016-10-31T07:44:28.029000  \n",
       "161881  2016-10-31T07:45:26.749000  2016-10-31T07:45:26.749000  \n",
       "161882  2016-10-31T07:46:32.768000  2016-10-31T07:46:32.768000  \n",
       "161883  2016-10-31T07:43:49.124000  2017-04-05T14:40:20.080986  \n",
       "\n",
       "[5 rows x 23 columns]"
      ]
     },
     "execution_count": 56,
     "metadata": {},
     "output_type": "execute_result"
    }
   ],
   "source": [
    "# get all the identifications we loaded above\n",
    "import pandas as pd\n",
    "df = pd.read_csv(expert_filename)\n",
    "# print the tail to demonstrate we got all the data up to the end\n",
    "df.tail()"
   ]
  },
  {
   "cell_type": "code",
   "execution_count": 53,
   "metadata": {},
   "outputs": [
    {
     "data": {
      "text/plain": [
       "wildebeest         55869\n",
       "zebra              35098\n",
       "gazelleThomsons    15986\n",
       "buffalo             7461\n",
       "hartebeest          6728\n",
       "elephant            5195\n",
       "impala              4955\n",
       "giraffe             4223\n",
       "human               3488\n",
       "warthog             3451\n",
       "gazelleGrants       2863\n",
       "otherBird           2634\n",
       "guineaFowl          2554\n",
       "hyenaSpotted        2136\n",
       "hippopotamus        1195\n",
       "lionFemale          1095\n",
       "reedbuck            1024\n",
       "topi                 953\n",
       "eland                891\n",
       "baboon               727\n",
       "cheetah              527\n",
       "dikDik               497\n",
       "ostrich              256\n",
       "lionMale             241\n",
       "secretaryBird        203\n",
       "koriBustard          189\n",
       "waterbuck            182\n",
       "jackal               180\n",
       "aardvark             165\n",
       "serval               162\n",
       "bushbuck             142\n",
       "porcupine            104\n",
       "leopard               87\n",
       "hare                  86\n",
       "mongoose              76\n",
       "vervetMonkey          73\n",
       "aardwolf              57\n",
       "batEaredFox           42\n",
       "hyenaStriped          27\n",
       "wildcat               14\n",
       "caracal               11\n",
       "civet                  9\n",
       "rhinoceros             8\n",
       "genet                  6\n",
       "honeyBadger            5\n",
       "reptiles               4\n",
       "zorilla                4\n",
       "rodents                1\n",
       "Name: Species, dtype: int64"
      ]
     },
     "execution_count": 53,
     "metadata": {},
     "output_type": "execute_result"
    }
   ],
   "source": [
    "df.Species.value_counts()"
   ]
  },
  {
   "cell_type": "code",
   "execution_count": 57,
   "metadata": {},
   "outputs": [
    {
     "data": {
      "text/plain": [
       "<matplotlib.axes._subplots.AxesSubplot at 0x1dd8a01f2e8>"
      ]
     },
     "execution_count": 57,
     "metadata": {},
     "output_type": "execute_result"
    },
    {
     "data": {
      "image/png": "[encoded data removed]",
      "text/plain": [
       "<Figure size 432x288 with 1 Axes>"
      ]
     },
     "metadata": {},
     "output_type": "display_data"
    }
   ],
   "source": [
    "df.Species.value_counts()[0:20].plot.bar()"
   ]
  },
  {
   "cell_type": "code",
   "execution_count": 58,
   "metadata": {},
   "outputs": [],
   "source": [
    "# example... separate the impala data\n",
    "sdf = df[df.Species=='impala']"
   ]
  },
  {
   "cell_type": "code",
   "execution_count": 59,
   "metadata": {},
   "outputs": [
    {
     "data": {
      "text/html": [
       "<div>\n",
       "<style scoped>\n",
       "    .dataframe tbody tr th:only-of-type {\n",
       "        vertical-align: middle;\n",
       "    }\n",
       "\n",
       "    .dataframe tbody tr th {\n",
       "        vertical-align: top;\n",
       "    }\n",
       "\n",
       "    .dataframe thead th {\n",
       "        text-align: right;\n",
       "    }\n",
       "</style>\n",
       "<table border=\"1\" class=\"dataframe\">\n",
       "  <thead>\n",
       "    <tr style=\"text-align: right;\">\n",
       "      <th></th>\n",
       "      <th>ID</th>\n",
       "      <th>CaptureEventID</th>\n",
       "      <th>Species</th>\n",
       "      <th>NumImages</th>\n",
       "      <th>DateTime</th>\n",
       "      <th>SiteID</th>\n",
       "      <th>LocationX</th>\n",
       "      <th>LocationY</th>\n",
       "      <th>NumSpecies</th>\n",
       "      <th>Count</th>\n",
       "      <th>...</th>\n",
       "      <th>Eating</th>\n",
       "      <th>Interacting</th>\n",
       "      <th>Babies</th>\n",
       "      <th>NumClassifications</th>\n",
       "      <th>NumVotes</th>\n",
       "      <th>NumBlanks</th>\n",
       "      <th>Evenness</th>\n",
       "      <th>expert identified</th>\n",
       "      <th>created</th>\n",
       "      <th>modified</th>\n",
       "    </tr>\n",
       "  </thead>\n",
       "  <tbody>\n",
       "    <tr>\n",
       "      <th>2</th>\n",
       "      <td>172670</td>\n",
       "      <td>ASG000dvuk</td>\n",
       "      <td>impala</td>\n",
       "      <td>3</td>\n",
       "      <td>2012-01-01T06:35:07</td>\n",
       "      <td>H02</td>\n",
       "      <td>708420</td>\n",
       "      <td>9733771</td>\n",
       "      <td>1</td>\n",
       "      <td>2</td>\n",
       "      <td>...</td>\n",
       "      <td>0.071429</td>\n",
       "      <td>0.0</td>\n",
       "      <td>0.0</td>\n",
       "      <td>19</td>\n",
       "      <td>14</td>\n",
       "      <td>4</td>\n",
       "      <td>0.353359</td>\n",
       "      <td>True</td>\n",
       "      <td>2016-10-31T07:29:07.146000</td>\n",
       "      <td>2016-10-31T11:08:23.817000</td>\n",
       "    </tr>\n",
       "    <tr>\n",
       "      <th>3</th>\n",
       "      <td>172671</td>\n",
       "      <td>ASG000dvtn</td>\n",
       "      <td>impala</td>\n",
       "      <td>3</td>\n",
       "      <td>2012-01-01T06:37:40</td>\n",
       "      <td>H02</td>\n",
       "      <td>708420</td>\n",
       "      <td>9733771</td>\n",
       "      <td>1</td>\n",
       "      <td>1</td>\n",
       "      <td>...</td>\n",
       "      <td>0.440000</td>\n",
       "      <td>0.0</td>\n",
       "      <td>0.0</td>\n",
       "      <td>29</td>\n",
       "      <td>25</td>\n",
       "      <td>2</td>\n",
       "      <td>0.287086</td>\n",
       "      <td>True</td>\n",
       "      <td>2016-10-31T07:29:07.153000</td>\n",
       "      <td>2016-10-31T11:08:23.982000</td>\n",
       "    </tr>\n",
       "    <tr>\n",
       "      <th>10</th>\n",
       "      <td>172599</td>\n",
       "      <td>ASG000eus8</td>\n",
       "      <td>impala</td>\n",
       "      <td>3</td>\n",
       "      <td>2012-01-01T07:56:06</td>\n",
       "      <td>H01</td>\n",
       "      <td>708572</td>\n",
       "      <td>9736024</td>\n",
       "      <td>1</td>\n",
       "      <td>1</td>\n",
       "      <td>...</td>\n",
       "      <td>0.722222</td>\n",
       "      <td>0.0</td>\n",
       "      <td>0.0</td>\n",
       "      <td>29</td>\n",
       "      <td>18</td>\n",
       "      <td>1</td>\n",
       "      <td>0.676711</td>\n",
       "      <td>True</td>\n",
       "      <td>2016-10-31T07:29:06.701000</td>\n",
       "      <td>2016-10-31T11:08:24.128000</td>\n",
       "    </tr>\n",
       "    <tr>\n",
       "      <th>12</th>\n",
       "      <td>172600</td>\n",
       "      <td>ASG000eut7</td>\n",
       "      <td>impala</td>\n",
       "      <td>3</td>\n",
       "      <td>2012-01-01T07:57:24</td>\n",
       "      <td>H01</td>\n",
       "      <td>708572</td>\n",
       "      <td>9736024</td>\n",
       "      <td>1</td>\n",
       "      <td>1</td>\n",
       "      <td>...</td>\n",
       "      <td>0.000000</td>\n",
       "      <td>0.0</td>\n",
       "      <td>0.0</td>\n",
       "      <td>23</td>\n",
       "      <td>15</td>\n",
       "      <td>0</td>\n",
       "      <td>0.710515</td>\n",
       "      <td>True</td>\n",
       "      <td>2016-10-31T07:29:06.707000</td>\n",
       "      <td>2016-10-31T11:08:24.276000</td>\n",
       "    </tr>\n",
       "    <tr>\n",
       "      <th>14</th>\n",
       "      <td>172601</td>\n",
       "      <td>ASG000euty</td>\n",
       "      <td>impala</td>\n",
       "      <td>3</td>\n",
       "      <td>2012-01-01T07:58:43</td>\n",
       "      <td>H01</td>\n",
       "      <td>708572</td>\n",
       "      <td>9736024</td>\n",
       "      <td>1</td>\n",
       "      <td>3</td>\n",
       "      <td>...</td>\n",
       "      <td>0.500000</td>\n",
       "      <td>0.0</td>\n",
       "      <td>0.0</td>\n",
       "      <td>33</td>\n",
       "      <td>22</td>\n",
       "      <td>1</td>\n",
       "      <td>0.628766</td>\n",
       "      <td>True</td>\n",
       "      <td>2016-10-31T07:29:06.713000</td>\n",
       "      <td>2016-10-31T11:08:24.423000</td>\n",
       "    </tr>\n",
       "  </tbody>\n",
       "</table>\n",
       "<p>5 rows × 23 columns</p>\n",
       "</div>"
      ],
      "text/plain": [
       "        ID CaptureEventID Species  NumImages             DateTime SiteID  \\\n",
       "2   172670     ASG000dvuk  impala          3  2012-01-01T06:35:07    H02   \n",
       "3   172671     ASG000dvtn  impala          3  2012-01-01T06:37:40    H02   \n",
       "10  172599     ASG000eus8  impala          3  2012-01-01T07:56:06    H01   \n",
       "12  172600     ASG000eut7  impala          3  2012-01-01T07:57:24    H01   \n",
       "14  172601     ASG000euty  impala          3  2012-01-01T07:58:43    H01   \n",
       "\n",
       "    LocationX  LocationY  NumSpecies Count             ...              \\\n",
       "2      708420    9733771           1     2             ...               \n",
       "3      708420    9733771           1     1             ...               \n",
       "10     708572    9736024           1     1             ...               \n",
       "12     708572    9736024           1     1             ...               \n",
       "14     708572    9736024           1     3             ...               \n",
       "\n",
       "      Eating  Interacting  Babies  NumClassifications  NumVotes  NumBlanks  \\\n",
       "2   0.071429          0.0     0.0                  19        14          4   \n",
       "3   0.440000          0.0     0.0                  29        25          2   \n",
       "10  0.722222          0.0     0.0                  29        18          1   \n",
       "12  0.000000          0.0     0.0                  23        15          0   \n",
       "14  0.500000          0.0     0.0                  33        22          1   \n",
       "\n",
       "    Evenness  expert identified                     created  \\\n",
       "2   0.353359               True  2016-10-31T07:29:07.146000   \n",
       "3   0.287086               True  2016-10-31T07:29:07.153000   \n",
       "10  0.676711               True  2016-10-31T07:29:06.701000   \n",
       "12  0.710515               True  2016-10-31T07:29:06.707000   \n",
       "14  0.628766               True  2016-10-31T07:29:06.713000   \n",
       "\n",
       "                      modified  \n",
       "2   2016-10-31T11:08:23.817000  \n",
       "3   2016-10-31T11:08:23.982000  \n",
       "10  2016-10-31T11:08:24.128000  \n",
       "12  2016-10-31T11:08:24.276000  \n",
       "14  2016-10-31T11:08:24.423000  \n",
       "\n",
       "[5 rows x 23 columns]"
      ]
     },
     "execution_count": 59,
     "metadata": {},
     "output_type": "execute_result"
    }
   ],
   "source": [
    "# demonstrate species column matches\n",
    "sdf.head()"
   ]
  },
  {
   "cell_type": "code",
   "execution_count": 60,
   "metadata": {},
   "outputs": [
    {
     "data": {
      "text/plain": [
       "4955"
      ]
     },
     "execution_count": 60,
     "metadata": {},
     "output_type": "execute_result"
    }
   ],
   "source": [
    "# how many of the Species identified by citizen scientists\n",
    "sdf.Species.count()"
   ]
  },
  {
   "cell_type": "code",
   "execution_count": 61,
   "metadata": {},
   "outputs": [
    {
     "data": {
      "text/plain": [
       "4954"
      ]
     },
     "execution_count": 61,
     "metadata": {},
     "output_type": "execute_result"
    }
   ],
   "source": [
    "# how many were identified by WFU experts\n",
    "sdf[sdf['expert identified']==True]['expert identified'].count()"
   ]
  },
  {
   "cell_type": "code",
   "execution_count": 62,
   "metadata": {},
   "outputs": [],
   "source": [
    "# create a generalized species identifier count\n",
    "def species_ident_data(expert_filename, species):\n",
    "    # get all the identifications we loaded above\n",
    "    import pandas as pd\n",
    "    df = pd.read_csv(expert_filename)\n",
    "    df = df[df.Species==species]\n",
    "    total_consensus_observations = df['ID'].count()\n",
    "    expert_identified = df[df['expert identified']==True]['expert identified'].count()\n",
    "    return species, total_consensus_observations, expert_identified, expert_identified/float(total_consensus_observations)"
   ]
  },
  {
   "cell_type": "code",
   "execution_count": 63,
   "metadata": {},
   "outputs": [
    {
     "data": {
      "text/plain": [
       "('impala', 4955, 4954, 0.9997981836528759)"
      ]
     },
     "execution_count": 63,
     "metadata": {},
     "output_type": "execute_result"
    }
   ],
   "source": [
    "species_ident_data(expert_filename, 'impala')"
   ]
  },
  {
   "cell_type": "code",
   "execution_count": 64,
   "metadata": {},
   "outputs": [
    {
     "data": {
      "text/plain": [
       "('gazelleGrants', 2863, 2821, 0.9853300733496333)"
      ]
     },
     "execution_count": 64,
     "metadata": {},
     "output_type": "execute_result"
    }
   ],
   "source": [
    "species_ident_data(expert_filename, 'gazelleGrants')"
   ]
  },
  {
   "cell_type": "code",
   "execution_count": 65,
   "metadata": {},
   "outputs": [
    {
     "data": {
      "text/plain": [
       "('gazelleThomsons', 15986, 1875, 0.11729012886275492)"
      ]
     },
     "execution_count": 65,
     "metadata": {},
     "output_type": "execute_result"
    }
   ],
   "source": [
    "species_ident_data(expert_filename, 'gazelleThomsons')"
   ]
  },
  {
   "cell_type": "code",
   "execution_count": 66,
   "metadata": {},
   "outputs": [
    {
     "data": {
      "text/plain": [
       "('hartebeest', 6728, 0, 0.0)"
      ]
     },
     "execution_count": 66,
     "metadata": {},
     "output_type": "execute_result"
    }
   ],
   "source": [
    "species_ident_data(expert_filename, 'hartebeest')"
   ]
  },
  {
   "cell_type": "code",
   "execution_count": 67,
   "metadata": {},
   "outputs": [
    {
     "data": {
      "text/plain": [
       "('topi', 953, 458, 0.4805876180482686)"
      ]
     },
     "execution_count": 67,
     "metadata": {},
     "output_type": "execute_result"
    }
   ],
   "source": [
    "species_ident_data(expert_filename, 'topi')"
   ]
  },
  {
   "cell_type": "code",
   "execution_count": 68,
   "metadata": {},
   "outputs": [],
   "source": [
    "data = []\n",
    "for species in ['gazelleGrants', 'gazelleThomsons', 'hartebeest', 'impala', 'topi']:\n",
    "    data.append(species_ident_data(expert_filename, species))"
   ]
  },
  {
   "cell_type": "code",
   "execution_count": 69,
   "metadata": {},
   "outputs": [
    {
     "data": {
      "text/plain": [
       "[('gazelleGrants', 2863, 2821, 0.9853300733496333),\n",
       " ('gazelleThomsons', 15986, 1875, 0.11729012886275492),\n",
       " ('hartebeest', 6728, 0, 0.0),\n",
       " ('impala', 4955, 4954, 0.9997981836528759),\n",
       " ('topi', 953, 458, 0.4805876180482686)]"
      ]
     },
     "execution_count": 69,
     "metadata": {},
     "output_type": "execute_result"
    }
   ],
   "source": [
    "data"
   ]
  },
  {
   "cell_type": "code",
   "execution_count": 70,
   "metadata": {},
   "outputs": [],
   "source": [
    "sdf = pd.DataFrame(data)"
   ]
  },
  {
   "cell_type": "code",
   "execution_count": 71,
   "metadata": {},
   "outputs": [
    {
     "data": {
      "text/html": [
       "<div>\n",
       "<style scoped>\n",
       "    .dataframe tbody tr th:only-of-type {\n",
       "        vertical-align: middle;\n",
       "    }\n",
       "\n",
       "    .dataframe tbody tr th {\n",
       "        vertical-align: top;\n",
       "    }\n",
       "\n",
       "    .dataframe thead th {\n",
       "        text-align: right;\n",
       "    }\n",
       "</style>\n",
       "<table border=\"1\" class=\"dataframe\">\n",
       "  <thead>\n",
       "    <tr style=\"text-align: right;\">\n",
       "      <th></th>\n",
       "      <th>species</th>\n",
       "      <th>count</th>\n",
       "      <th>expert</th>\n",
       "      <th>pct</th>\n",
       "    </tr>\n",
       "  </thead>\n",
       "  <tbody>\n",
       "    <tr>\n",
       "      <th>0</th>\n",
       "      <td>gazelleGrants</td>\n",
       "      <td>2863</td>\n",
       "      <td>2821</td>\n",
       "      <td>0.985330</td>\n",
       "    </tr>\n",
       "    <tr>\n",
       "      <th>1</th>\n",
       "      <td>gazelleThomsons</td>\n",
       "      <td>15986</td>\n",
       "      <td>1875</td>\n",
       "      <td>0.117290</td>\n",
       "    </tr>\n",
       "    <tr>\n",
       "      <th>2</th>\n",
       "      <td>hartebeest</td>\n",
       "      <td>6728</td>\n",
       "      <td>0</td>\n",
       "      <td>0.000000</td>\n",
       "    </tr>\n",
       "    <tr>\n",
       "      <th>3</th>\n",
       "      <td>impala</td>\n",
       "      <td>4955</td>\n",
       "      <td>4954</td>\n",
       "      <td>0.999798</td>\n",
       "    </tr>\n",
       "    <tr>\n",
       "      <th>4</th>\n",
       "      <td>topi</td>\n",
       "      <td>953</td>\n",
       "      <td>458</td>\n",
       "      <td>0.480588</td>\n",
       "    </tr>\n",
       "  </tbody>\n",
       "</table>\n",
       "</div>"
      ],
      "text/plain": [
       "           species  count  expert       pct\n",
       "0    gazelleGrants   2863    2821  0.985330\n",
       "1  gazelleThomsons  15986    1875  0.117290\n",
       "2       hartebeest   6728       0  0.000000\n",
       "3           impala   4955    4954  0.999798\n",
       "4             topi    953     458  0.480588"
      ]
     },
     "execution_count": 71,
     "metadata": {},
     "output_type": "execute_result"
    }
   ],
   "source": [
    "sdf.columns = ['species','count','expert','pct']\n",
    "sdf"
   ]
  },
  {
   "cell_type": "code",
   "execution_count": 52,
   "metadata": {},
   "outputs": [
    {
     "data": {
      "text/plain": [
       "<matplotlib.axes._subplots.AxesSubplot at 0x1dd88a909b0>"
      ]
     },
     "execution_count": 52,
     "metadata": {},
     "output_type": "execute_result"
    },
    {
     "data": {
      "image/png": "[encoded data removed]",
      "text/plain": [
       "<Figure size 432x288 with 1 Axes>"
      ]
     },
     "metadata": {},
     "output_type": "display_data"
    }
   ],
   "source": [
    "sdf.drop('pct',axis=1).set_index('species').plot.bar()"
   ]
  },
  {
   "cell_type": "code",
   "execution_count": null,
   "metadata": {},
   "outputs": [],
   "source": []
  }
 ],
 "metadata": {
  "kernelspec": {
   "display_name": "Python 3",
   "language": "python",
   "name": "python3"
  },
  "language_info": {
   "codemirror_mode": {
    "name": "ipython",
    "version": 3
   },
   "file_extension": ".py",
   "mimetype": "text/x-python",
   "name": "python",
   "nbconvert_exporter": "python",
   "pygments_lexer": "ipython3",
   "version": "3.6.5"
  }
 },
 "nbformat": 4,
 "nbformat_minor": 2
}
