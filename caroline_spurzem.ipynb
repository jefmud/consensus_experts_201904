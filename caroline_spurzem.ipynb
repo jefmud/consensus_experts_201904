{
  "nbformat": 4,
  "nbformat_minor": 0,
  "metadata": {
    "colab": {
      "name": "caroline spurzem.ipynb",
      "version": "0.3.2",
      "provenance": [],
      "include_colab_link": true
    },
    "language_info": {
      "codemirror_mode": {
        "name": "ipython",
        "version": 3
      },
      "file_extension": ".py",
      "mimetype": "text/x-python",
      "name": "python",
      "nbconvert_exporter": "python",
      "pygments_lexer": "ipython3",
      "version": "3.6.5"
    },
    "kernelspec": {
      "display_name": "Python 3",
      "language": "python",
      "name": "python3"
    }
  },
  "cells": [
    {
      "cell_type": "markdown",
      "metadata": {
        "id": "view-in-github",
        "colab_type": "text"
      },
      "source": [
        "<a href=\"https://colab.research.google.com/github/jefmud/consensus_experts_201904/blob/master/caroline_spurzem.ipynb\" target=\"_parent\"><img src=\"https://colab.research.google.com/assets/colab-badge.svg\" alt=\"Open In Colab\"/></a>"
      ]
    },
    {
      "cell_type": "code",
      "metadata": {
        "colab_type": "code",
        "id": "XJTBzThCfFNn",
        "colab": {}
      },
      "source": [
        "import pandas as pd\n",
        "url = \"https://muday.net/consensus_data.csv\"\n",
        "df = pd.read_csv(url)"
      ],
      "execution_count": 0,
      "outputs": []
    },
    {
      "cell_type": "code",
      "metadata": {
        "colab_type": "code",
        "id": "32gtvkC5gFYb",
        "outputId": "1b2b28eb-ad34-4427-d979-2a585d9c8f11",
        "colab": {
          "base_uri": "https://localhost:8080/",
          "height": 394
        }
      },
      "source": [
        "df.head()"
      ],
      "execution_count": 0,
      "outputs": [
        {
          "output_type": "execute_result",
          "data": {
            "text/html": [
              "<div>\n",
              "<style scoped>\n",
              "    .dataframe tbody tr th:only-of-type {\n",
              "        vertical-align: middle;\n",
              "    }\n",
              "\n",
              "    .dataframe tbody tr th {\n",
              "        vertical-align: top;\n",
              "    }\n",
              "\n",
              "    .dataframe thead th {\n",
              "        text-align: right;\n",
              "    }\n",
              "</style>\n",
              "<table border=\"1\" class=\"dataframe\">\n",
              "  <thead>\n",
              "    <tr style=\"text-align: right;\">\n",
              "      <th></th>\n",
              "      <th>CaptureEventID</th>\n",
              "      <th>NumImages</th>\n",
              "      <th>DateTime</th>\n",
              "      <th>SiteID</th>\n",
              "      <th>LocationX</th>\n",
              "      <th>LocationY</th>\n",
              "      <th>NumSpecies</th>\n",
              "      <th>Species</th>\n",
              "      <th>Count</th>\n",
              "      <th>Standing</th>\n",
              "      <th>Resting</th>\n",
              "      <th>Moving</th>\n",
              "      <th>Eating</th>\n",
              "      <th>Interacting</th>\n",
              "      <th>Babies</th>\n",
              "      <th>NumClassifications</th>\n",
              "      <th>NumVotes</th>\n",
              "      <th>NumBlanks</th>\n",
              "      <th>Evenness</th>\n",
              "    </tr>\n",
              "  </thead>\n",
              "  <tbody>\n",
              "    <tr>\n",
              "      <th>0</th>\n",
              "      <td>ASG0002kjh</td>\n",
              "      <td>1</td>\n",
              "      <td>2010-07-18 16:26:14</td>\n",
              "      <td>B04</td>\n",
              "      <td>695238</td>\n",
              "      <td>9729497</td>\n",
              "      <td>1</td>\n",
              "      <td>human</td>\n",
              "      <td>1</td>\n",
              "      <td>0.625000</td>\n",
              "      <td>0.062500</td>\n",
              "      <td>0.000000</td>\n",
              "      <td>0.000000</td>\n",
              "      <td>0.500000</td>\n",
              "      <td>0.0</td>\n",
              "      <td>17</td>\n",
              "      <td>16</td>\n",
              "      <td>1</td>\n",
              "      <td>0.000000</td>\n",
              "    </tr>\n",
              "    <tr>\n",
              "      <th>1</th>\n",
              "      <td>ASG0002kji</td>\n",
              "      <td>1</td>\n",
              "      <td>2010-07-18 16:26:30</td>\n",
              "      <td>B04</td>\n",
              "      <td>695238</td>\n",
              "      <td>9729497</td>\n",
              "      <td>1</td>\n",
              "      <td>human</td>\n",
              "      <td>2</td>\n",
              "      <td>0.095238</td>\n",
              "      <td>0.619048</td>\n",
              "      <td>0.000000</td>\n",
              "      <td>0.047619</td>\n",
              "      <td>0.333333</td>\n",
              "      <td>0.0</td>\n",
              "      <td>23</td>\n",
              "      <td>21</td>\n",
              "      <td>2</td>\n",
              "      <td>0.000000</td>\n",
              "    </tr>\n",
              "    <tr>\n",
              "      <th>2</th>\n",
              "      <td>ASG0002kjm</td>\n",
              "      <td>1</td>\n",
              "      <td>2010-07-24 08:20:10</td>\n",
              "      <td>B04</td>\n",
              "      <td>695238</td>\n",
              "      <td>9729497</td>\n",
              "      <td>1</td>\n",
              "      <td>gazelleGrants</td>\n",
              "      <td>1</td>\n",
              "      <td>0.000000</td>\n",
              "      <td>0.000000</td>\n",
              "      <td>1.000000</td>\n",
              "      <td>0.000000</td>\n",
              "      <td>0.000000</td>\n",
              "      <td>0.0</td>\n",
              "      <td>30</td>\n",
              "      <td>12</td>\n",
              "      <td>6</td>\n",
              "      <td>0.693426</td>\n",
              "    </tr>\n",
              "    <tr>\n",
              "      <th>3</th>\n",
              "      <td>ASG0002kjn</td>\n",
              "      <td>1</td>\n",
              "      <td>2010-07-24 10:14:32</td>\n",
              "      <td>B04</td>\n",
              "      <td>695238</td>\n",
              "      <td>9729497</td>\n",
              "      <td>1</td>\n",
              "      <td>reedbuck</td>\n",
              "      <td>1</td>\n",
              "      <td>0.833333</td>\n",
              "      <td>0.000000</td>\n",
              "      <td>0.166667</td>\n",
              "      <td>0.000000</td>\n",
              "      <td>0.000000</td>\n",
              "      <td>0.0</td>\n",
              "      <td>25</td>\n",
              "      <td>6</td>\n",
              "      <td>7</td>\n",
              "      <td>0.957995</td>\n",
              "    </tr>\n",
              "    <tr>\n",
              "      <th>4</th>\n",
              "      <td>ASG0002kjo</td>\n",
              "      <td>1</td>\n",
              "      <td>2010-07-30 03:59:42</td>\n",
              "      <td>B04</td>\n",
              "      <td>695238</td>\n",
              "      <td>9729497</td>\n",
              "      <td>1</td>\n",
              "      <td>dikDik</td>\n",
              "      <td>1</td>\n",
              "      <td>0.809524</td>\n",
              "      <td>0.000000</td>\n",
              "      <td>0.190476</td>\n",
              "      <td>0.000000</td>\n",
              "      <td>0.000000</td>\n",
              "      <td>0.0</td>\n",
              "      <td>28</td>\n",
              "      <td>21</td>\n",
              "      <td>3</td>\n",
              "      <td>0.482102</td>\n",
              "    </tr>\n",
              "  </tbody>\n",
              "</table>\n",
              "</div>"
            ],
            "text/plain": [
              "  CaptureEventID  NumImages             DateTime  ... NumVotes  NumBlanks  Evenness\n",
              "0     ASG0002kjh          1  2010-07-18 16:26:14  ...       16          1  0.000000\n",
              "1     ASG0002kji          1  2010-07-18 16:26:30  ...       21          2  0.000000\n",
              "2     ASG0002kjm          1  2010-07-24 08:20:10  ...       12          6  0.693426\n",
              "3     ASG0002kjn          1  2010-07-24 10:14:32  ...        6          7  0.957995\n",
              "4     ASG0002kjo          1  2010-07-30 03:59:42  ...       21          3  0.482102\n",
              "\n",
              "[5 rows x 19 columns]"
            ]
          },
          "metadata": {
            "tags": []
          },
          "execution_count": 3
        }
      ]
    },
    {
      "cell_type": "code",
      "metadata": {
        "colab_type": "code",
        "id": "NihptarpgSBI",
        "outputId": "2d977fbd-f7f7-4d90-b24b-2db86a1e906b",
        "colab": {
          "base_uri": "https://localhost:8080/",
          "height": 34
        }
      },
      "source": [
        "df.Species.count()"
      ],
      "execution_count": 0,
      "outputs": [
        {
          "output_type": "execute_result",
          "data": {
            "text/plain": [
              "334671"
            ]
          },
          "metadata": {
            "tags": []
          },
          "execution_count": 4
        }
      ]
    },
    {
      "cell_type": "code",
      "metadata": {
        "colab_type": "code",
        "id": "kdTLfT_9gg7D",
        "outputId": "db18a4b5-5023-4e08-c278-ded2b6c25aa1",
        "colab": {
          "base_uri": "https://localhost:8080/",
          "height": 850
        }
      },
      "source": [
        "df.Species.value_counts()"
      ],
      "execution_count": 0,
      "outputs": [
        {
          "output_type": "execute_result",
          "data": {
            "text/plain": [
              "wildebeest         100660\n",
              "zebra               70577\n",
              "gazelleThomsons     41420\n",
              "buffalo             13672\n",
              "hartebeest          12431\n",
              "elephant            10178\n",
              "human                9851\n",
              "giraffe              8386\n",
              "impala               8286\n",
              "guineaFowl           7793\n",
              "gazelleGrants        7723\n",
              "warthog              7493\n",
              "otherBird            5549\n",
              "hyenaSpotted         5303\n",
              "lionFemale           3343\n",
              "reedbuck             2875\n",
              "eland                2689\n",
              "hippopotamus         2611\n",
              "topi                 2299\n",
              "baboon               1556\n",
              "dikDik               1483\n",
              "cheetah              1272\n",
              "lionMale              923\n",
              "koriBustard           688\n",
              "ostrich               673\n",
              "jackal                561\n",
              "serval                458\n",
              "secretaryBird         434\n",
              "hare                  398\n",
              "aardvark              386\n",
              "waterbuck             353\n",
              "vervetMonkey          314\n",
              "batEaredFox           291\n",
              "porcupine             288\n",
              "bushbuck              252\n",
              "mongoose              246\n",
              "leopard               228\n",
              "aardwolf              162\n",
              "reptiles              131\n",
              "hyenaStriped          115\n",
              "caracal                79\n",
              "rodents                48\n",
              "wildcat                47\n",
              "civet                  37\n",
              "honeyBadger            35\n",
              "rhinoceros             30\n",
              "genet                  27\n",
              "zorilla                17\n",
              "Name: Species, dtype: int64"
            ]
          },
          "metadata": {
            "tags": []
          },
          "execution_count": 5
        }
      ]
    },
    {
      "cell_type": "code",
      "metadata": {
        "colab_type": "code",
        "id": "Z17nC5rwgwmB",
        "outputId": "8913e03f-c694-4cb7-d15e-953d82cf6ec3",
        "colab": {
          "base_uri": "https://localhost:8080/",
          "height": 119
        }
      },
      "source": [
        "df.Species.value_counts().head()"
      ],
      "execution_count": 0,
      "outputs": [
        {
          "output_type": "execute_result",
          "data": {
            "text/plain": [
              "wildebeest         100660\n",
              "zebra               70577\n",
              "gazelleThomsons     41420\n",
              "buffalo             13672\n",
              "hartebeest          12431\n",
              "Name: Species, dtype: int64"
            ]
          },
          "metadata": {
            "tags": []
          },
          "execution_count": 6
        }
      ]
    },
    {
      "cell_type": "code",
      "metadata": {
        "colab_type": "code",
        "id": "GYkm7FsvhGxC",
        "outputId": "6d068db9-5559-4e35-c836-d73f172f51af",
        "colab": {
          "base_uri": "https://localhost:8080/",
          "height": 394
        }
      },
      "source": [
        "df[df.Species=='zebra'].head()"
      ],
      "execution_count": 0,
      "outputs": [
        {
          "output_type": "execute_result",
          "data": {
            "text/html": [
              "<div>\n",
              "<style scoped>\n",
              "    .dataframe tbody tr th:only-of-type {\n",
              "        vertical-align: middle;\n",
              "    }\n",
              "\n",
              "    .dataframe tbody tr th {\n",
              "        vertical-align: top;\n",
              "    }\n",
              "\n",
              "    .dataframe thead th {\n",
              "        text-align: right;\n",
              "    }\n",
              "</style>\n",
              "<table border=\"1\" class=\"dataframe\">\n",
              "  <thead>\n",
              "    <tr style=\"text-align: right;\">\n",
              "      <th></th>\n",
              "      <th>CaptureEventID</th>\n",
              "      <th>NumImages</th>\n",
              "      <th>DateTime</th>\n",
              "      <th>SiteID</th>\n",
              "      <th>LocationX</th>\n",
              "      <th>LocationY</th>\n",
              "      <th>NumSpecies</th>\n",
              "      <th>Species</th>\n",
              "      <th>Count</th>\n",
              "      <th>Standing</th>\n",
              "      <th>Resting</th>\n",
              "      <th>Moving</th>\n",
              "      <th>Eating</th>\n",
              "      <th>Interacting</th>\n",
              "      <th>Babies</th>\n",
              "      <th>NumClassifications</th>\n",
              "      <th>NumVotes</th>\n",
              "      <th>NumBlanks</th>\n",
              "      <th>Evenness</th>\n",
              "    </tr>\n",
              "  </thead>\n",
              "  <tbody>\n",
              "    <tr>\n",
              "      <th>5</th>\n",
              "      <td>ASG0002kjp</td>\n",
              "      <td>1</td>\n",
              "      <td>2010-07-30 05:20:22</td>\n",
              "      <td>B04</td>\n",
              "      <td>695238</td>\n",
              "      <td>9729497</td>\n",
              "      <td>1</td>\n",
              "      <td>zebra</td>\n",
              "      <td>1</td>\n",
              "      <td>0.937500</td>\n",
              "      <td>0.000000</td>\n",
              "      <td>0.062500</td>\n",
              "      <td>0.062500</td>\n",
              "      <td>0.0</td>\n",
              "      <td>0.0</td>\n",
              "      <td>17</td>\n",
              "      <td>16</td>\n",
              "      <td>1</td>\n",
              "      <td>0.0</td>\n",
              "    </tr>\n",
              "    <tr>\n",
              "      <th>6</th>\n",
              "      <td>ASG0002kjs</td>\n",
              "      <td>1</td>\n",
              "      <td>2010-07-30 20:57:28</td>\n",
              "      <td>B04</td>\n",
              "      <td>695238</td>\n",
              "      <td>9729497</td>\n",
              "      <td>1</td>\n",
              "      <td>zebra</td>\n",
              "      <td>1</td>\n",
              "      <td>0.230769</td>\n",
              "      <td>0.000000</td>\n",
              "      <td>0.000000</td>\n",
              "      <td>0.769231</td>\n",
              "      <td>0.0</td>\n",
              "      <td>0.0</td>\n",
              "      <td>13</td>\n",
              "      <td>13</td>\n",
              "      <td>0</td>\n",
              "      <td>0.0</td>\n",
              "    </tr>\n",
              "    <tr>\n",
              "      <th>8</th>\n",
              "      <td>ASG0002kjx</td>\n",
              "      <td>1</td>\n",
              "      <td>2010-08-05 02:24:04</td>\n",
              "      <td>B04</td>\n",
              "      <td>695238</td>\n",
              "      <td>9729497</td>\n",
              "      <td>1</td>\n",
              "      <td>zebra</td>\n",
              "      <td>1</td>\n",
              "      <td>1.000000</td>\n",
              "      <td>0.076923</td>\n",
              "      <td>0.000000</td>\n",
              "      <td>0.000000</td>\n",
              "      <td>0.0</td>\n",
              "      <td>0.0</td>\n",
              "      <td>13</td>\n",
              "      <td>13</td>\n",
              "      <td>0</td>\n",
              "      <td>0.0</td>\n",
              "    </tr>\n",
              "    <tr>\n",
              "      <th>9</th>\n",
              "      <td>ASG0002kjy</td>\n",
              "      <td>1</td>\n",
              "      <td>2010-08-05 02:29:02</td>\n",
              "      <td>B04</td>\n",
              "      <td>695238</td>\n",
              "      <td>9729497</td>\n",
              "      <td>1</td>\n",
              "      <td>zebra</td>\n",
              "      <td>1</td>\n",
              "      <td>1.000000</td>\n",
              "      <td>0.000000</td>\n",
              "      <td>0.000000</td>\n",
              "      <td>0.000000</td>\n",
              "      <td>0.0</td>\n",
              "      <td>0.0</td>\n",
              "      <td>12</td>\n",
              "      <td>12</td>\n",
              "      <td>0</td>\n",
              "      <td>0.0</td>\n",
              "    </tr>\n",
              "    <tr>\n",
              "      <th>10</th>\n",
              "      <td>ASG0002kk0</td>\n",
              "      <td>1</td>\n",
              "      <td>2010-08-05 02:57:04</td>\n",
              "      <td>B04</td>\n",
              "      <td>695238</td>\n",
              "      <td>9729497</td>\n",
              "      <td>1</td>\n",
              "      <td>zebra</td>\n",
              "      <td>1</td>\n",
              "      <td>0.692308</td>\n",
              "      <td>0.076923</td>\n",
              "      <td>0.076923</td>\n",
              "      <td>0.230769</td>\n",
              "      <td>0.0</td>\n",
              "      <td>0.0</td>\n",
              "      <td>17</td>\n",
              "      <td>13</td>\n",
              "      <td>4</td>\n",
              "      <td>0.0</td>\n",
              "    </tr>\n",
              "  </tbody>\n",
              "</table>\n",
              "</div>"
            ],
            "text/plain": [
              "   CaptureEventID  NumImages  ... NumBlanks Evenness\n",
              "5      ASG0002kjp          1  ...         1      0.0\n",
              "6      ASG0002kjs          1  ...         0      0.0\n",
              "8      ASG0002kjx          1  ...         0      0.0\n",
              "9      ASG0002kjy          1  ...         0      0.0\n",
              "10     ASG0002kk0          1  ...         4      0.0\n",
              "\n",
              "[5 rows x 19 columns]"
            ]
          },
          "metadata": {
            "tags": []
          },
          "execution_count": 7
        }
      ]
    },
    {
      "cell_type": "code",
      "metadata": {
        "colab_type": "code",
        "id": "mdFTqDMEhagT",
        "outputId": "7203bea8-b54e-4dba-dc1b-cf608722bf3a",
        "colab": {
          "base_uri": "https://localhost:8080/",
          "height": 170
        }
      },
      "source": [
        "df[df.Species=='zebra'].Evenness.describe()"
      ],
      "execution_count": 0,
      "outputs": [
        {
          "output_type": "execute_result",
          "data": {
            "text/plain": [
              "count    70577.000000\n",
              "mean         0.226140\n",
              "std          0.349666\n",
              "min          0.000000\n",
              "25%          0.000000\n",
              "50%          0.000000\n",
              "75%          0.439497\n",
              "max          1.000000\n",
              "Name: Evenness, dtype: float64"
            ]
          },
          "metadata": {
            "tags": []
          },
          "execution_count": 11
        }
      ]
    },
    {
      "cell_type": "code",
      "metadata": {
        "colab_type": "code",
        "id": "gWKe_hJOhq1q",
        "outputId": "d6f8435a-462b-4284-cb27-d28bbfe5aad4",
        "colab": {
          "base_uri": "https://localhost:8080/",
          "height": 170
        }
      },
      "source": [
        "df[df.Species=='human'].Evenness.describe()"
      ],
      "execution_count": 0,
      "outputs": [
        {
          "output_type": "execute_result",
          "data": {
            "text/plain": [
              "count    9851.000000\n",
              "mean        0.038173\n",
              "std         0.145701\n",
              "min         0.000000\n",
              "25%         0.000000\n",
              "50%         0.000000\n",
              "75%         0.000000\n",
              "max         1.000000\n",
              "Name: Evenness, dtype: float64"
            ]
          },
          "metadata": {
            "tags": []
          },
          "execution_count": 10
        }
      ]
    },
    {
      "cell_type": "code",
      "metadata": {
        "colab_type": "code",
        "id": "1-X1G00JiiqV",
        "outputId": "e6164064-7bdc-4b68-de4d-1d248c144dff",
        "colab": {
          "base_uri": "https://localhost:8080/",
          "height": 170
        }
      },
      "source": [
        "df[df.Species=='gazelleGrants'].Evenness.describe()"
      ],
      "execution_count": 0,
      "outputs": [
        {
          "output_type": "execute_result",
          "data": {
            "text/plain": [
              "count    7723.000000\n",
              "mean        0.683860\n",
              "std         0.239223\n",
              "min         0.000000\n",
              "25%         0.591673\n",
              "50%         0.741610\n",
              "75%         0.849263\n",
              "max         1.000000\n",
              "Name: Evenness, dtype: float64"
            ]
          },
          "metadata": {
            "tags": []
          },
          "execution_count": 12
        }
      ]
    },
    {
      "cell_type": "code",
      "metadata": {
        "colab_type": "code",
        "id": "FvtNK5XsisR3",
        "outputId": "9f7e3a6f-98c1-40bc-8fba-7bab9b2dac4c",
        "colab": {
          "base_uri": "https://localhost:8080/",
          "height": 170
        }
      },
      "source": [
        "df[df.Species=='gazelleThomsons'].Evenness.describe()"
      ],
      "execution_count": 0,
      "outputs": [
        {
          "output_type": "execute_result",
          "data": {
            "text/plain": [
              "count    41420.000000\n",
              "mean         0.291017\n",
              "std          0.318106\n",
              "min          0.000000\n",
              "25%          0.000000\n",
              "50%          0.266765\n",
              "75%          0.543564\n",
              "max          1.000000\n",
              "Name: Evenness, dtype: float64"
            ]
          },
          "metadata": {
            "tags": []
          },
          "execution_count": 13
        }
      ]
    },
    {
      "cell_type": "code",
      "metadata": {
        "colab_type": "code",
        "id": "IPSOu3Sjkx1y",
        "outputId": "e74dba21-6e27-489a-973e-73fb361f3bb1",
        "colab": {
          "base_uri": "https://localhost:8080/",
          "height": 362
        }
      },
      "source": [
        "df.Species.value_counts().plot.bar()"
      ],
      "execution_count": 0,
      "outputs": [
        {
          "output_type": "execute_result",
          "data": {
            "text/plain": [
              "<matplotlib.axes._subplots.AxesSubplot at 0x7f9be94e3240>"
            ]
          },
          "metadata": {
            "tags": []
          },
          "execution_count": 14
        },
        {
          "output_type": "display_data",
          "data": {
            "image/png": "[encoded data removed]",
            "text/plain": [
              "<Figure size 432x288 with 1 Axes>"
            ]
          },
          "metadata": {
            "tags": []
          }
        }
      ]
    },
    {
      "cell_type": "code",
      "metadata": {
        "colab_type": "code",
        "id": "fBQgknKClARP",
        "outputId": "da47c92e-4c85-4892-fda6-b7874987440d",
        "colab": {
          "base_uri": "https://localhost:8080/",
          "height": 362
        }
      },
      "source": [
        "#here is a top 5 count for species seen at all sites\n",
        "df.Species.value_counts().head().plot.bar()"
      ],
      "execution_count": 0,
      "outputs": [
        {
          "output_type": "execute_result",
          "data": {
            "text/plain": [
              "<matplotlib.axes._subplots.AxesSubplot at 0x7f9be93b8390>"
            ]
          },
          "metadata": {
            "tags": []
          },
          "execution_count": 15
        },
        {
          "output_type": "display_data",
          "data": {
            "image/png": "[encoded data removed]",
            "text/plain": [
              "<Figure size 432x288 with 1 Axes>"
            ]
          },
          "metadata": {
            "tags": []
          }
        }
      ]
    },
    {
      "cell_type": "code",
      "metadata": {
        "colab_type": "code",
        "id": "mLF4ez7ul22y",
        "outputId": "2cb34828-86cc-410d-9607-3dd11724350e",
        "colab": {
          "base_uri": "https://localhost:8080/",
          "height": 330
        }
      },
      "source": [
        "#here is a top 5 count for species seen at a specific site (B04)\n",
        "df[df.SiteID=='B04'].Species.value_counts().head().plot.bar()"
      ],
      "execution_count": 0,
      "outputs": [
        {
          "output_type": "execute_result",
          "data": {
            "text/plain": [
              "<matplotlib.axes._subplots.AxesSubplot at 0x7f9be6792780>"
            ]
          },
          "metadata": {
            "tags": []
          },
          "execution_count": 17
        },
        {
          "output_type": "display_data",
          "data": {
            "image/png": "[encoded data removed]",
            "text/plain": [
              "<Figure size 432x288 with 1 Axes>"
            ]
          },
          "metadata": {
            "tags": []
          }
        }
      ]
    },
    {
      "cell_type": "code",
      "metadata": {
        "colab_type": "code",
        "id": "sLrVVdf6nQrz",
        "outputId": "eddbf000-8866-4ce2-f343-c102d8d55909",
        "colab": {
          "base_uri": "https://localhost:8080/",
          "height": 119
        }
      },
      "source": [
        "df.SiteID.value_counts().head()"
      ],
      "execution_count": 0,
      "outputs": [
        {
          "output_type": "execute_result",
          "data": {
            "text/plain": [
              "H07    10801\n",
              "B07     6070\n",
              "U10     5639\n",
              "D02     5429\n",
              "H02     4955\n",
              "Name: SiteID, dtype: int64"
            ]
          },
          "metadata": {
            "tags": []
          },
          "execution_count": 19
        }
      ]
    },
    {
      "cell_type": "code",
      "metadata": {
        "colab_type": "code",
        "id": "ZxcYV11nniVi",
        "outputId": "4619661c-bfdf-4d7b-cf4d-47b77fbf747d",
        "colab": {
          "base_uri": "https://localhost:8080/",
          "height": 362
        }
      },
      "source": [
        "df[df.SiteID=='H07'].Species.value_counts().head().plot.bar()"
      ],
      "execution_count": 0,
      "outputs": [
        {
          "output_type": "execute_result",
          "data": {
            "text/plain": [
              "<matplotlib.axes._subplots.AxesSubplot at 0x7f9be6af9cc0>"
            ]
          },
          "metadata": {
            "tags": []
          },
          "execution_count": 20
        },
        {
          "output_type": "display_data",
          "data": {
            "image/png": "[encoded data removed]",
            "text/plain": [
              "<Figure size 432x288 with 1 Axes>"
            ]
          },
          "metadata": {
            "tags": []
          }
        }
      ]
    },
    {
      "cell_type": "code",
      "metadata": {
        "colab_type": "code",
        "id": "UbvTJzkVoSTQ",
        "outputId": "969e39ba-69d6-4703-808d-a6ed486d179a",
        "colab": {
          "base_uri": "https://localhost:8080/",
          "height": 362
        }
      },
      "source": [
        "df[df.SiteID=='B07'].Species.value_counts().head().plot.bar()"
      ],
      "execution_count": 0,
      "outputs": [
        {
          "output_type": "execute_result",
          "data": {
            "text/plain": [
              "<matplotlib.axes._subplots.AxesSubplot at 0x7f9be6a74a90>"
            ]
          },
          "metadata": {
            "tags": []
          },
          "execution_count": 21
        },
        {
          "output_type": "display_data",
          "data": {
            "image/png": "[encoded data removed]",
            "text/plain": [
              "<Figure size 432x288 with 1 Axes>"
            ]
          },
          "metadata": {
            "tags": []
          }
        }
      ]
    },
    {
      "cell_type": "code",
      "metadata": {
        "colab_type": "code",
        "id": "7V8vmjajoZ73",
        "outputId": "aec27349-429f-4966-ae90-0a9909e3a9a7",
        "colab": {
          "base_uri": "https://localhost:8080/",
          "height": 330
        }
      },
      "source": [
        "df[df.SiteID=='U10'].Species.value_counts().head().plot.bar()"
      ],
      "execution_count": 0,
      "outputs": [
        {
          "output_type": "execute_result",
          "data": {
            "text/plain": [
              "<matplotlib.axes._subplots.AxesSubplot at 0x7f9be6b120f0>"
            ]
          },
          "metadata": {
            "tags": []
          },
          "execution_count": 22
        },
        {
          "output_type": "display_data",
          "data": {
            "image/png": "[encoded data removed]",
            "text/plain": [
              "<Figure size 432x288 with 1 Axes>"
            ]
          },
          "metadata": {
            "tags": []
          }
        }
      ]
    },
    {
      "cell_type": "code",
      "metadata": {
        "colab_type": "code",
        "id": "PvA7ZOeyohrm",
        "outputId": "b7bb0e03-38c8-4002-88aa-ea89fd690ba0",
        "colab": {
          "base_uri": "https://localhost:8080/",
          "height": 362
        }
      },
      "source": [
        "df[df.SiteID=='D02'].Species.value_counts().head().plot.bar()"
      ],
      "execution_count": 0,
      "outputs": [
        {
          "output_type": "execute_result",
          "data": {
            "text/plain": [
              "<matplotlib.axes._subplots.AxesSubplot at 0x7f9be65fecc0>"
            ]
          },
          "metadata": {
            "tags": []
          },
          "execution_count": 23
        },
        {
          "output_type": "display_data",
          "data": {
            "image/png": "[encoded data removed]",
            "text/plain": [
              "<Figure size 432x288 with 1 Axes>"
            ]
          },
          "metadata": {
            "tags": []
          }
        }
      ]
    },
    {
      "cell_type": "code",
      "metadata": {
        "colab_type": "code",
        "id": "0kjzRYq4okIB",
        "outputId": "ff14c885-06cf-40ca-c741-6c2db5f32a53",
        "colab": {
          "base_uri": "https://localhost:8080/",
          "height": 362
        }
      },
      "source": [
        "df[df.SiteID=='H02'].Species.value_counts().head().plot.bar()"
      ],
      "execution_count": 0,
      "outputs": [
        {
          "output_type": "execute_result",
          "data": {
            "text/plain": [
              "<matplotlib.axes._subplots.AxesSubplot at 0x7f9be65d9e80>"
            ]
          },
          "metadata": {
            "tags": []
          },
          "execution_count": 24
        },
        {
          "output_type": "display_data",
          "data": {
            "image/png": "[encoded data removed]",
            "text/plain": [
              "<Figure size 432x288 with 1 Axes>"
            ]
          },
          "metadata": {
            "tags": []
          }
        }
      ]
    }
  ]
}